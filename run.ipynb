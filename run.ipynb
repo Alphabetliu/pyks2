{
 "cells": [
  {
   "cell_type": "markdown",
   "metadata": {},
   "source": [
    "# PyKS2\n",
    "\n",
    "ZC. Fang (Copyright &copy; 2018)\n",
    "\n",
    "一个读取日本共和电业（Kyowa）KS2数据文件的python库。提供读取、转存.mat格式和基本的绘图功能。\n",
    "\n",
    "依赖python包：\n",
    "\n",
    "+ numpy >= 1.13\n",
    "+ scipy >= 0.19\n",
    "+ pandas >= 0.20\n",
    "+ matplotlib >= 2.0"
   ]
  },
  {
   "cell_type": "markdown",
   "metadata": {},
   "source": [
    "## 导入PyKS2及相关依赖包"
   ]
  },
  {
   "cell_type": "code",
   "execution_count": null,
   "metadata": {},
   "outputs": [],
   "source": [
    "from pyks2 import *\n",
    "\n",
    "import numpy as np\n",
    "import scipy as sp\n",
    "import pandas as pd\n",
    "import matplotlib as mpl\n",
    "import matplotlib.pyplot as plt\n",
    "\n",
    "# 图片行内显示\n",
    "%matplotlib inline"
   ]
  },
  {
   "cell_type": "code",
   "execution_count": null,
   "metadata": {},
   "outputs": [],
   "source": [
    "print(\"Numpy version:\", np.__version__)\n",
    "print(\"Scipy version:\", sp.__version__)\n",
    "print(\"Pandas version:\", pd.__version__)\n",
    "print(\"Matplotlib version:\", mpl.__version__)"
   ]
  },
  {
   "cell_type": "markdown",
   "metadata": {},
   "source": [
    "## 载入KS2文件"
   ]
  },
  {
   "cell_type": "code",
   "execution_count": null,
   "metadata": {},
   "outputs": [],
   "source": [
    "ks2 = KS2(\"example.ks2\")"
   ]
  },
  {
   "cell_type": "markdown",
   "metadata": {},
   "source": [
    "## 转存格式"
   ]
  },
  {
   "cell_type": "code",
   "execution_count": null,
   "metadata": {},
   "outputs": [],
   "source": [
    "# 指定导出文件名savename\n",
    "# 后缀名.mat\n",
    "ks2.save(savename='example.mat')"
   ]
  },
  {
   "cell_type": "markdown",
   "metadata": {},
   "source": [
    "## 绘图"
   ]
  },
  {
   "cell_type": "code",
   "execution_count": null,
   "metadata": {},
   "outputs": [],
   "source": [
    "# select channel\n",
    "# 0 ~ chN-1 (type: list)\n",
    "# None -> all channels\n",
    "# ch = None\n",
    "ch = [1]\n",
    "\n",
    "# time range (None or [t1, t2])\n",
    "# tRange = None\n",
    "tRange = [1, 5]\n",
    "\n",
    "if ch is None:\n",
    "    ch = range(ks2.chN)\n",
    "\n",
    "# select downsampled sampling frequency\n",
    "fsDS = 250\n",
    "\n",
    "# down sample the data for plotting\n",
    "di = round(max(1, ks2.fs / fsDS))\n",
    "if tRange is None:\n",
    "    rawDS = ks2.raw[::di, :]\n",
    "else:\n",
    "    rawDS = ks2.raw[round(tRange[0] * ks2.fs):round(tRange[1] * ks2.fs):di, :]\n",
    "    \n",
    "if len(ch) == 1:\n",
    "    dataDS = np.array(list(map(\n",
    "        lambda i: ks2.coefA[i] * rawDS[:, i] + ks2.coefB[i], ch))).reshape((-1, 1))\n",
    "else:\n",
    "    dataDS = np.array(\n",
    "        list(map(lambda i: ks2.coefA[i] * rawDS[:, i] + ks2.coefB[i], ch))).T\n",
    "\n",
    "if tRange is None:\n",
    "    t = np.arange(dataDS.shape[0]) / (ks2.fs / di)\n",
    "else:\n",
    "    t = tRange[0] + np.arange(dataDS.shape[0]) / (ks2.fs / di)\n",
    "\n",
    "chNames = list(map(lambda i: ks2.chName[i], ch))\n",
    "dataframe = pd.DataFrame(dataDS, index=t, columns=chNames)\n",
    "ax = dataframe.plot(figsize=(12, 10), linewidth=1)\n",
    "# ax.set_xlim([6, 6.5])\n",
    "ax.set_xlabel(r'$t$ (s)')\n",
    "ax.legend(loc=1, fontsize='small')\n"
   ]
  },
  {
   "cell_type": "code",
   "execution_count": null,
   "metadata": {},
   "outputs": [],
   "source": []
  }
 ],
 "metadata": {
  "kernelspec": {
   "display_name": "Python 3",
   "language": "python",
   "name": "python3"
  },
  "language_info": {
   "codemirror_mode": {
    "name": "ipython",
    "version": 3
   },
   "file_extension": ".py",
   "mimetype": "text/x-python",
   "name": "python",
   "nbconvert_exporter": "python",
   "pygments_lexer": "ipython3",
   "version": "3.6.4"
  }
 },
 "nbformat": 4,
 "nbformat_minor": 2
}
